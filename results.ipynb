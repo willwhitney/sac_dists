{
 "cells": [
  {
   "cell_type": "code",
   "execution_count": 1,
   "metadata": {},
   "outputs": [
    {
     "data": {
      "text/html": [
       "<style>.container { width:100% !important; }</style>"
      ],
      "text/plain": [
       "<IPython.core.display.HTML object>"
      ]
     },
     "metadata": {},
     "output_type": "display_data"
    }
   ],
   "source": [
    "from IPython.core.display import display, HTML\n",
    "display(HTML(\"<style>.container { width:100% !important; }</style>\"))"
   ]
  },
  {
   "cell_type": "code",
   "execution_count": 27,
   "metadata": {},
   "outputs": [],
   "source": [
    "import altair as alt\n",
    "import pandas as pd\n",
    "import glob\n",
    "import os"
   ]
  },
  {
   "cell_type": "code",
   "execution_count": 3,
   "metadata": {},
   "outputs": [
    {
     "data": {
      "text/plain": [
       "ThemeRegistry.enable('personal')"
      ]
     },
     "execution_count": 3,
     "metadata": {},
     "output_type": "execute_result"
    }
   ],
   "source": [
    "def personal():\n",
    "    return {\n",
    "        'config': {\n",
    "            'view': {\n",
    "                'height': 300,\n",
    "                'width': 400,\n",
    "            },\n",
    "            'range': {\n",
    "                'category': {'scheme': 'set2'},\n",
    "                'ordinal': {'scheme': 'plasma'},\n",
    "            },\n",
    "            'legend': {\n",
    "                'labelLimit': 0,\n",
    "            },\n",
    "            'background': 'white',\n",
    "            'mark': {\n",
    "                'clip': True,\n",
    "            },\n",
    "            'line': {\n",
    "                'size': 3,\n",
    "#                 'opacity': 0.4\n",
    "            },\n",
    "\n",
    "\n",
    "        }\n",
    "    }\n",
    "\n",
    "def publication():\n",
    "    colorscheme = 'set2'\n",
    "    stroke_color = '333'\n",
    "    title_size = 24\n",
    "    label_size = 20\n",
    "    line_width = 5\n",
    "\n",
    "    return {\n",
    "        'config': {\n",
    "            'view': {\n",
    "                'height': 500,\n",
    "                'width': 600,\n",
    "                'strokeWidth': 0,\n",
    "                'background': 'white',\n",
    "            },\n",
    "            'title': {\n",
    "                'fontSize': title_size,\n",
    "            },\n",
    "            'range': {\n",
    "                'category': {'scheme': colorscheme},\n",
    "                'ordinal': {'scheme': colorscheme},\n",
    "            },\n",
    "            'axis': {\n",
    "                'titleFontSize': title_size,\n",
    "                'labelFontSize': label_size,\n",
    "                'grid': False,\n",
    "                'domainWidth': 5,\n",
    "                'domainColor': stroke_color,\n",
    "                'tickWidth': 3,\n",
    "                'tickSize': 9,\n",
    "                'tickCount': 4,\n",
    "                'tickColor': stroke_color,\n",
    "                'tickOffset': 0,\n",
    "            },\n",
    "            'legend': {\n",
    "                'titleFontSize': title_size,\n",
    "                'labelFontSize': label_size,\n",
    "                'labelLimit': 0,\n",
    "                'titleLimit': 0,\n",
    "                'orient': 'top-left',\n",
    "#                 'padding': 10,\n",
    "                'titlePadding': 10,\n",
    "#                 'rowPadding': 5,\n",
    "                'fillColor': '#ffffff88',\n",
    "#                 'strokeColor': 'black',\n",
    "                'cornerRadius': 0,\n",
    "            },\n",
    "            'rule': {\n",
    "                'size': 3,\n",
    "                'color': '999',\n",
    "                # 'strokeDash': [4, 4],\n",
    "            },\n",
    "            'line': {\n",
    "                'size': line_width,\n",
    "#                 'opacity': 0.4\n",
    "            },\n",
    "        }\n",
    "    }\n",
    "\n",
    "alt.themes.register('personal', personal)\n",
    "alt.themes.register('publication', publication)\n",
    "alt.themes.enable('personal')"
   ]
  },
  {
   "cell_type": "code",
   "execution_count": 4,
   "metadata": {},
   "outputs": [],
   "source": [
    "def load_sac_results(env, task):\n",
    "    sac_results = pd.read_csv('results/sac.csv')\n",
    "    sac_results = sac_results[sac_results.env == f'{env}_{task}']\n",
    "    sac_results['test'] = True\n",
    "    sac_results['score'] = sac_results['episode_reward']\n",
    "    sac_results['name'] = 'SAC'\n",
    "    sac_results['title'] = 'SAC'\n",
    "    return sac_results"
   ]
  },
  {
   "cell_type": "code",
   "execution_count": 24,
   "metadata": {},
   "outputs": [],
   "source": [
    "def load_jobs(pattern, title=None):    \n",
    "    jobs = glob.glob(f'exp/*/*{pattern}')\n",
    "    results = []\n",
    "    for job in jobs:\n",
    "        try:\n",
    "            name = os.path.basename(os.path.normpath(job))\n",
    "            train_data = pd.read_csv(job + '/train.csv')\n",
    "            train_data['test'] = False\n",
    "            test_data = pd.read_csv(job + '/eval.csv')\n",
    "            test_data['test'] = True\n",
    "            data = pd.concat([train_data, test_data], sort=False)\n",
    "            data['name'] = name\n",
    "            results.append(data)\n",
    "        except Exception as e:\n",
    "            print(e)\n",
    "    df = pd.concat(results, sort=False)\n",
    "    if title is None:\n",
    "        df['title'] = df['name'].str.replace(r'_seed\\d', '')\n",
    "    else:\n",
    "        df['title'] = title\n",
    "    return df.reset_index(drop=True)"
   ]
  },
  {
   "cell_type": "code",
   "execution_count": 25,
   "metadata": {},
   "outputs": [],
   "source": [
    "def plot_with_bars(data, y_col='episode_reward', test=True, extent='ci', \n",
    "                   y_args={}, **kwargs):\n",
    "    base_chart = alt.Chart(data).mark_line().encode(x='episode', **kwargs)\n",
    "    \n",
    "    legend_chart = base_chart.mark_line(size=0, opacity=1).encode(\n",
    "        y=alt.Y(f'mean({y_col}):Q', **y_args),\n",
    "    ).transform_filter(alt.datum.test == test)\n",
    "    mean_chart = base_chart.encode(\n",
    "        y=alt.Y(f'mean({y_col}):Q', **y_args),\n",
    "    ).transform_filter(alt.datum.test == test)\n",
    "    err_chart = base_chart.encode(\n",
    "        y=alt.Y(f'{y_col}:Q', **y_args),\n",
    "    ).transform_filter(alt.datum.test == test).mark_errorband(extent=extent)\n",
    "    \n",
    "    chart = legend_chart + err_chart + mean_chart\n",
    "    return chart"
   ]
  },
  {
   "cell_type": "code",
   "execution_count": 36,
   "metadata": {},
   "outputs": [
    {
     "name": "stdout",
     "output_type": "stream",
     "text": [
      "No columns to parse from file\n",
      "No columns to parse from file\n",
      "No columns to parse from file\n",
      "No columns to parse from file\n",
      "No columns to parse from file\n",
      "No columns to parse from file\n",
      "No columns to parse from file\n",
      "No columns to parse from file\n",
      "No columns to parse from file\n"
     ]
    },
    {
     "data": {
      "text/html": [
       "\n",
       "<div id=\"altair-viz-915d5ba1f836412995ee4b037f5cb0ad\"></div>\n",
       "<script type=\"text/javascript\">\n",
       "  (function(spec, embedOpt){\n",
       "    let outputDiv = document.currentScript.previousElementSibling;\n",
       "    if (outputDiv.id !== \"altair-viz-915d5ba1f836412995ee4b037f5cb0ad\") {\n",
       "      outputDiv = document.getElementById(\"altair-viz-915d5ba1f836412995ee4b037f5cb0ad\");\n",
       "    }\n",
       "    const paths = {\n",
       "      \"vega\": \"https://cdn.jsdelivr.net/npm//vega@5?noext\",\n",
       "      \"vega-lib\": \"https://cdn.jsdelivr.net/npm//vega-lib?noext\",\n",
       "      \"vega-lite\": \"https://cdn.jsdelivr.net/npm//vega-lite@4.8.1?noext\",\n",
       "      \"vega-embed\": \"https://cdn.jsdelivr.net/npm//vega-embed@6?noext\",\n",
       "    };\n",
       "\n",
       "    function loadScript(lib) {\n",
       "      return new Promise(function(resolve, reject) {\n",
       "        var s = document.createElement('script');\n",
       "        s.src = paths[lib];\n",
       "        s.async = true;\n",
       "        s.onload = () => resolve(paths[lib]);\n",
       "        s.onerror = () => reject(`Error loading script: ${paths[lib]}`);\n",
       "        document.getElementsByTagName(\"head\")[0].appendChild(s);\n",
       "      });\n",
       "    }\n",
       "\n",
       "    function showError(err) {\n",
       "      outputDiv.innerHTML = `<div class=\"error\" style=\"color:red;\">${err}</div>`;\n",
       "      throw err;\n",
       "    }\n",
       "\n",
       "    function displayChart(vegaEmbed) {\n",
       "      vegaEmbed(outputDiv, spec, embedOpt)\n",
       "        .catch(err => showError(`Javascript Error: ${err.message}<br>This usually means there's a typo in your chart specification. See the javascript console for the full traceback.`));\n",
       "    }\n",
       "\n",
       "    if(typeof define === \"function\" && define.amd) {\n",
       "      requirejs.config({paths});\n",
       "      require([\"vega-embed\"], displayChart, err => showError(`Error loading script: ${err.message}`));\n",
       "    } else if (typeof vegaEmbed === \"function\") {\n",
       "      displayChart(vegaEmbed);\n",
       "    } else {\n",
       "      loadScript(\"vega\")\n",
       "        .then(() => loadScript(\"vega-lite\"))\n",
       "        .then(() => loadScript(\"vega-embed\"))\n",
       "        .catch(showError)\n",
       "        .then(() => displayChart(vegaEmbed));\n",
       "    }\n",
       "  })({\"config\": {\"view\": {\"height\": 300, \"width\": 400}, \"range\": {\"category\": {\"scheme\": \"set2\"}, \"ordinal\": {\"scheme\": \"plasma\"}}, \"legend\": {\"labelLimit\": 0}, \"background\": \"white\", \"mark\": {\"clip\": true}, \"line\": {\"size\": 3}}, \"hconcat\": [{\"layer\": [{\"mark\": {\"type\": \"line\", \"opacity\": 1, \"size\": 0}, \"encoding\": {\"color\": {\"type\": \"nominal\", \"field\": \"title\"}, \"x\": {\"type\": \"quantitative\", \"field\": \"episode\"}, \"y\": {\"type\": \"quantitative\", \"aggregate\": \"mean\", \"field\": \"episode_reward\"}}, \"transform\": [{\"filter\": \"(datum.test === false)\"}]}, {\"mark\": {\"type\": \"errorband\", \"extent\": \"ci\"}, \"encoding\": {\"color\": {\"type\": \"nominal\", \"field\": \"title\"}, \"x\": {\"type\": \"quantitative\", \"field\": \"episode\"}, \"y\": {\"type\": \"quantitative\", \"field\": \"episode_reward\"}}, \"transform\": [{\"filter\": \"(datum.test === false)\"}]}, {\"mark\": \"line\", \"encoding\": {\"color\": {\"type\": \"nominal\", \"field\": \"title\"}, \"x\": {\"type\": \"quantitative\", \"field\": \"episode\"}, \"y\": {\"type\": \"quantitative\", \"aggregate\": \"mean\", \"field\": \"episode_reward\"}}, \"transform\": [{\"filter\": \"(datum.test === false)\"}]}]}, {\"layer\": [{\"mark\": {\"type\": \"line\", \"opacity\": 1, \"size\": 0}, \"encoding\": {\"color\": {\"type\": \"nominal\", \"field\": \"title\"}, \"x\": {\"type\": \"quantitative\", \"field\": \"episode\"}, \"y\": {\"type\": \"quantitative\", \"aggregate\": \"mean\", \"field\": \"episode_reward\"}}, \"transform\": [{\"filter\": \"(datum.test === true)\"}]}, {\"mark\": {\"type\": \"errorband\", \"extent\": \"ci\"}, \"encoding\": {\"color\": {\"type\": \"nominal\", \"field\": \"title\"}, \"x\": {\"type\": \"quantitative\", \"field\": \"episode\"}, \"y\": {\"type\": \"quantitative\", \"field\": \"episode_reward\"}}, \"transform\": [{\"filter\": \"(datum.test === true)\"}]}, {\"mark\": \"line\", \"encoding\": {\"color\": {\"type\": \"nominal\", \"field\": \"title\"}, \"x\": {\"type\": \"quantitative\", \"field\": \"episode\"}, \"y\": {\"type\": \"quantitative\", \"aggregate\": \"mean\", \"field\": \"episode_reward\"}}, \"transform\": [{\"filter\": \"(datum.test === true)\"}]}]}], \"data\": {\"name\": \"data-acda939935b3f80d8b646f2994c5dbd8\"}, \"$schema\": \"https://vega.github.io/schema/vega-lite/v4.8.1.json\", \"datasets\": {\"data-acda939935b3f80d8b646f2994c5dbd8\": [{\"Unnamed: 0\": 0.0, \"episode\": 20.0, \"episode_reward\": 60.80187267057693, \"step\": 20000, \"run_id\": \"run=18\", \"agent\": \"sac\", \"env\": \"cheetah_run\", \"seed\": 1.0, \"experiment\": \"bench\", \"log_save_tb\": false, \"eval_frequency\": 20000.0, \"num_train_steps\": 10000000.0, \"Agent\": \"SAC\", \"test\": true, \"score\": 60.80187267057693, \"name\": \"SAC\", \"title\": \"SAC\", \"actor_entropy\": null, \"actor_loss\": null, \"actor_target_entropy\": null, \"alpha_loss\": null, \"alpha_value\": null, \"batch_reward\": null, \"critic_loss\": null, \"duration\": null}, {\"Unnamed: 0\": 1.0, \"episode\": 40.0, \"episode_reward\": 104.19997204346882, \"step\": 40000, \"run_id\": \"run=18\", \"agent\": \"sac\", \"env\": \"cheetah_run\", \"seed\": 1.0, \"experiment\": \"bench\", \"log_save_tb\": false, \"eval_frequency\": 20000.0, \"num_train_steps\": 10000000.0, \"Agent\": \"SAC\", \"test\": true, \"score\": 104.19997204346882, \"name\": \"SAC\", \"title\": \"SAC\", \"actor_entropy\": null, \"actor_loss\": null, \"actor_target_entropy\": null, \"alpha_loss\": null, \"alpha_value\": null, \"batch_reward\": null, \"critic_loss\": null, \"duration\": null}, {\"Unnamed: 0\": 2.0, \"episode\": 60.0, \"episode_reward\": 82.23262019123541, \"step\": 60000, \"run_id\": \"run=18\", \"agent\": \"sac\", \"env\": \"cheetah_run\", \"seed\": 1.0, \"experiment\": \"bench\", \"log_save_tb\": false, \"eval_frequency\": 20000.0, \"num_train_steps\": 10000000.0, \"Agent\": \"SAC\", \"test\": true, \"score\": 82.23262019123541, \"name\": \"SAC\", \"title\": \"SAC\", \"actor_entropy\": null, \"actor_loss\": null, \"actor_target_entropy\": null, \"alpha_loss\": null, \"alpha_value\": null, \"batch_reward\": null, \"critic_loss\": null, \"duration\": null}, {\"Unnamed: 0\": 3.0, \"episode\": 80.0, \"episode_reward\": 155.05405612471912, \"step\": 80000, \"run_id\": \"run=18\", \"agent\": \"sac\", \"env\": \"cheetah_run\", \"seed\": 1.0, \"experiment\": \"bench\", \"log_save_tb\": false, \"eval_frequency\": 20000.0, \"num_train_steps\": 10000000.0, \"Agent\": \"SAC\", \"test\": true, \"score\": 155.05405612471912, \"name\": \"SAC\", \"title\": \"SAC\", \"actor_entropy\": null, \"actor_loss\": null, \"actor_target_entropy\": null, \"alpha_loss\": null, \"alpha_value\": null, \"batch_reward\": null, \"critic_loss\": null, \"duration\": null}, {\"Unnamed: 0\": 4.0, \"episode\": 100.0, \"episode_reward\": 265.84909629043955, \"step\": 100000, \"run_id\": \"run=18\", \"agent\": \"sac\", \"env\": \"cheetah_run\", \"seed\": 1.0, \"experiment\": \"bench\", \"log_save_tb\": false, \"eval_frequency\": 20000.0, \"num_train_steps\": 10000000.0, \"Agent\": \"SAC\", \"test\": true, \"score\": 265.84909629043955, \"name\": \"SAC\", \"title\": \"SAC\", \"actor_entropy\": null, \"actor_loss\": null, \"actor_target_entropy\": null, \"alpha_loss\": null, \"alpha_value\": null, \"batch_reward\": null, \"critic_loss\": null, \"duration\": null}, {\"Unnamed: 0\": 0.0, \"episode\": 20.0, \"episode_reward\": 60.79239063122208, \"step\": 20000, \"run_id\": \"run=20\", \"agent\": \"sac\", \"env\": \"cheetah_run\", \"seed\": 3.0, \"experiment\": \"bench\", \"log_save_tb\": false, \"eval_frequency\": 20000.0, \"num_train_steps\": 10000000.0, \"Agent\": \"SAC\", \"test\": true, \"score\": 60.79239063122208, \"name\": \"SAC\", \"title\": \"SAC\", \"actor_entropy\": null, \"actor_loss\": null, \"actor_target_entropy\": null, \"alpha_loss\": null, \"alpha_value\": null, \"batch_reward\": null, \"critic_loss\": null, \"duration\": null}, {\"Unnamed: 0\": 1.0, \"episode\": 40.0, \"episode_reward\": 45.15874797678276, \"step\": 40000, \"run_id\": \"run=20\", \"agent\": \"sac\", \"env\": \"cheetah_run\", \"seed\": 3.0, \"experiment\": \"bench\", \"log_save_tb\": false, \"eval_frequency\": 20000.0, \"num_train_steps\": 10000000.0, \"Agent\": \"SAC\", \"test\": true, \"score\": 45.15874797678276, \"name\": \"SAC\", \"title\": \"SAC\", \"actor_entropy\": null, \"actor_loss\": null, \"actor_target_entropy\": null, \"alpha_loss\": null, \"alpha_value\": null, \"batch_reward\": null, \"critic_loss\": null, \"duration\": null}, {\"Unnamed: 0\": 2.0, \"episode\": 60.0, \"episode_reward\": 89.36931998453893, \"step\": 60000, \"run_id\": \"run=20\", \"agent\": \"sac\", \"env\": \"cheetah_run\", \"seed\": 3.0, \"experiment\": \"bench\", \"log_save_tb\": false, \"eval_frequency\": 20000.0, \"num_train_steps\": 10000000.0, \"Agent\": \"SAC\", \"test\": true, \"score\": 89.36931998453893, \"name\": \"SAC\", \"title\": \"SAC\", \"actor_entropy\": null, \"actor_loss\": null, \"actor_target_entropy\": null, \"alpha_loss\": null, \"alpha_value\": null, \"batch_reward\": null, \"critic_loss\": null, \"duration\": null}, {\"Unnamed: 0\": 3.0, \"episode\": 80.0, \"episode_reward\": 124.86582177996479, \"step\": 80000, \"run_id\": \"run=20\", \"agent\": \"sac\", \"env\": \"cheetah_run\", \"seed\": 3.0, \"experiment\": \"bench\", \"log_save_tb\": false, \"eval_frequency\": 20000.0, \"num_train_steps\": 10000000.0, \"Agent\": \"SAC\", \"test\": true, \"score\": 124.86582177996479, \"name\": \"SAC\", \"title\": \"SAC\", \"actor_entropy\": null, \"actor_loss\": null, \"actor_target_entropy\": null, \"alpha_loss\": null, \"alpha_value\": null, \"batch_reward\": null, \"critic_loss\": null, \"duration\": null}, {\"Unnamed: 0\": 4.0, \"episode\": 100.0, \"episode_reward\": 118.53171455263264, \"step\": 100000, \"run_id\": \"run=20\", \"agent\": \"sac\", \"env\": \"cheetah_run\", \"seed\": 3.0, \"experiment\": \"bench\", \"log_save_tb\": false, \"eval_frequency\": 20000.0, \"num_train_steps\": 10000000.0, \"Agent\": \"SAC\", \"test\": true, \"score\": 118.53171455263264, \"name\": \"SAC\", \"title\": \"SAC\", \"actor_entropy\": null, \"actor_loss\": null, \"actor_target_entropy\": null, \"alpha_loss\": null, \"alpha_value\": null, \"batch_reward\": null, \"critic_loss\": null, \"duration\": null}, {\"Unnamed: 0\": 0.0, \"episode\": 20.0, \"episode_reward\": 56.34649640533054, \"step\": 20000, \"run_id\": \"run=19\", \"agent\": \"sac\", \"env\": \"cheetah_run\", \"seed\": 2.0, \"experiment\": \"bench\", \"log_save_tb\": false, \"eval_frequency\": 20000.0, \"num_train_steps\": 10000000.0, \"Agent\": \"SAC\", \"test\": true, \"score\": 56.34649640533054, \"name\": \"SAC\", \"title\": \"SAC\", \"actor_entropy\": null, \"actor_loss\": null, \"actor_target_entropy\": null, \"alpha_loss\": null, \"alpha_value\": null, \"batch_reward\": null, \"critic_loss\": null, \"duration\": null}, {\"Unnamed: 0\": 1.0, \"episode\": 40.0, \"episode_reward\": 39.04602216434217, \"step\": 40000, \"run_id\": \"run=19\", \"agent\": \"sac\", \"env\": \"cheetah_run\", \"seed\": 2.0, \"experiment\": \"bench\", \"log_save_tb\": false, \"eval_frequency\": 20000.0, \"num_train_steps\": 10000000.0, \"Agent\": \"SAC\", \"test\": true, \"score\": 39.04602216434217, \"name\": \"SAC\", \"title\": \"SAC\", \"actor_entropy\": null, \"actor_loss\": null, \"actor_target_entropy\": null, \"alpha_loss\": null, \"alpha_value\": null, \"batch_reward\": null, \"critic_loss\": null, \"duration\": null}, {\"Unnamed: 0\": 2.0, \"episode\": 60.0, \"episode_reward\": 151.8113719344346, \"step\": 60000, \"run_id\": \"run=19\", \"agent\": \"sac\", \"env\": \"cheetah_run\", \"seed\": 2.0, \"experiment\": \"bench\", \"log_save_tb\": false, \"eval_frequency\": 20000.0, \"num_train_steps\": 10000000.0, \"Agent\": \"SAC\", \"test\": true, \"score\": 151.8113719344346, \"name\": \"SAC\", \"title\": \"SAC\", \"actor_entropy\": null, \"actor_loss\": null, \"actor_target_entropy\": null, \"alpha_loss\": null, \"alpha_value\": null, \"batch_reward\": null, \"critic_loss\": null, \"duration\": null}, {\"Unnamed: 0\": 3.0, \"episode\": 80.0, \"episode_reward\": 131.46263526411707, \"step\": 80000, \"run_id\": \"run=19\", \"agent\": \"sac\", \"env\": \"cheetah_run\", \"seed\": 2.0, \"experiment\": \"bench\", \"log_save_tb\": false, \"eval_frequency\": 20000.0, \"num_train_steps\": 10000000.0, \"Agent\": \"SAC\", \"test\": true, \"score\": 131.46263526411707, \"name\": \"SAC\", \"title\": \"SAC\", \"actor_entropy\": null, \"actor_loss\": null, \"actor_target_entropy\": null, \"alpha_loss\": null, \"alpha_value\": null, \"batch_reward\": null, \"critic_loss\": null, \"duration\": null}, {\"Unnamed: 0\": 4.0, \"episode\": 100.0, \"episode_reward\": 256.0074300174136, \"step\": 100000, \"run_id\": \"run=19\", \"agent\": \"sac\", \"env\": \"cheetah_run\", \"seed\": 2.0, \"experiment\": \"bench\", \"log_save_tb\": false, \"eval_frequency\": 20000.0, \"num_train_steps\": 10000000.0, \"Agent\": \"SAC\", \"test\": true, \"score\": 256.0074300174136, \"name\": \"SAC\", \"title\": \"SAC\", \"actor_entropy\": null, \"actor_loss\": null, \"actor_target_entropy\": null, \"alpha_loss\": null, \"alpha_value\": null, \"batch_reward\": null, \"critic_loss\": null, \"duration\": null}, {\"Unnamed: 0\": null, \"episode\": 6.0, \"episode_reward\": 4.438450153325529, \"step\": 6000, \"run_id\": null, \"agent\": null, \"env\": null, \"seed\": null, \"experiment\": null, \"log_save_tb\": null, \"eval_frequency\": null, \"num_train_steps\": null, \"Agent\": null, \"test\": false, \"score\": null, \"name\": \"1617_sac_sactrunc_v1_seed2\", \"title\": \"1617_sac_sactrunc_v1\", \"actor_entropy\": 4.140081954479218, \"actor_loss\": -1.0430635214745998, \"actor_target_entropy\": -6.0, \"alpha_loss\": 0.9656461114287376, \"alpha_value\": 0.09523216830087174, \"batch_reward\": 0.0035360739352181553, \"critic_loss\": 0.0059586167220259095, \"duration\": 26.33900809288025}, {\"Unnamed: 0\": null, \"episode\": 7.0, \"episode_reward\": 3.867431572180157, \"step\": 7000, \"run_id\": null, \"agent\": null, \"env\": null, \"seed\": null, \"experiment\": null, \"log_save_tb\": null, \"eval_frequency\": null, \"num_train_steps\": null, \"Agent\": null, \"test\": false, \"score\": null, \"name\": \"1617_sac_sactrunc_v1_seed2\", \"title\": \"1617_sac_sactrunc_v1\", \"actor_entropy\": 4.153933288574219, \"actor_loss\": -1.7071546380519866, \"actor_target_entropy\": -6.0, \"alpha_loss\": 0.8782397146224976, \"alpha_value\": 0.08649298170441358, \"batch_reward\": 0.0037417736428324135, \"critic_loss\": 0.001251773611176759, \"duration\": 25.492712259292606}, {\"Unnamed: 0\": null, \"episode\": 8.0, \"episode_reward\": 5.1649343291640495, \"step\": 8000, \"run_id\": null, \"agent\": null, \"env\": null, \"seed\": null, \"experiment\": null, \"log_save_tb\": null, \"eval_frequency\": null, \"num_train_steps\": null, \"Agent\": null, \"test\": false, \"score\": null, \"name\": \"1617_sac_sactrunc_v1_seed2\", \"title\": \"1617_sac_sactrunc_v1\", \"actor_entropy\": 4.1567027235031135, \"actor_loss\": -2.3807934019565584, \"actor_target_entropy\": -6.0, \"alpha_loss\": 0.7999186440706253, \"alpha_value\": 0.07875776211417061, \"batch_reward\": 0.003951856741216034, \"critic_loss\": 0.0011071479729143905, \"duration\": 24.62005496025085}, {\"Unnamed: 0\": null, \"episode\": 9.0, \"episode_reward\": 5.58648392809178, \"step\": 9000, \"run_id\": null, \"agent\": null, \"env\": null, \"seed\": null, \"experiment\": null, \"log_save_tb\": null, \"eval_frequency\": null, \"num_train_steps\": null, \"Agent\": null, \"test\": false, \"score\": null, \"name\": \"1617_sac_sactrunc_v1_seed2\", \"title\": \"1617_sac_sactrunc_v1\", \"actor_entropy\": 4.156760043621063, \"actor_loss\": -2.9926151158809664, \"actor_target_entropy\": -6.0, \"alpha_loss\": 0.7294833135604858, \"alpha_value\": 0.07182241637140954, \"batch_reward\": 0.004014398181112482, \"critic_loss\": 0.0012880649180151524, \"duration\": 24.795966148376465}, {\"Unnamed: 0\": null, \"episode\": 10.0, \"episode_reward\": 3.770421029305085, \"step\": 10000, \"run_id\": null, \"agent\": null, \"env\": null, \"seed\": null, \"experiment\": null, \"log_save_tb\": null, \"eval_frequency\": null, \"num_train_steps\": null, \"Agent\": null, \"test\": false, \"score\": null, \"name\": \"1617_sac_sactrunc_v1_seed2\", \"title\": \"1617_sac_sactrunc_v1\", \"actor_entropy\": 4.155652616977692, \"actor_loss\": -3.534883549928665, \"actor_target_entropy\": -6.0, \"alpha_loss\": 0.6657185595035553, \"alpha_value\": 0.06555141395387512, \"batch_reward\": 0.004110831974772736, \"critic_loss\": 0.0014990628235973418, \"duration\": 24.70004510879517}, {\"Unnamed: 0\": null, \"episode\": 11.0, \"episode_reward\": 6.210950589404862, \"step\": 11000, \"run_id\": null, \"agent\": null, \"env\": null, \"seed\": null, \"experiment\": null, \"log_save_tb\": null, \"eval_frequency\": null, \"num_train_steps\": null, \"Agent\": null, \"test\": false, \"score\": null, \"name\": \"1617_sac_sactrunc_v1_seed2\", \"title\": \"1617_sac_sactrunc_v1\", \"actor_entropy\": 4.152391680717468, \"actor_loss\": -4.0095639741420745, \"actor_target_entropy\": -6.0, \"alpha_loss\": 0.6076580954194069, \"alpha_value\": 0.05985351043825165, \"batch_reward\": 0.004122964113252236, \"critic_loss\": 0.001706500810221769, \"duration\": 51.614649534225464}, {\"Unnamed: 0\": null, \"episode\": 12.0, \"episode_reward\": 3.0578606480065016, \"step\": 12000, \"run_id\": null, \"agent\": null, \"env\": null, \"seed\": null, \"experiment\": null, \"log_save_tb\": null, \"eval_frequency\": null, \"num_train_steps\": null, \"Agent\": null, \"test\": false, \"score\": null, \"name\": \"1617_sac_sactrunc_v1_seed2\", \"title\": \"1617_sac_sactrunc_v1\", \"actor_entropy\": 4.147406549930572, \"actor_loss\": -4.423978037834168, \"actor_target_entropy\": -6.0, \"alpha_loss\": 0.5546880504488945, \"alpha_value\": 0.0546628212490386, \"batch_reward\": 0.004192046395735815, \"critic_loss\": 0.001888117342023179, \"duration\": 24.51986312866211}, {\"Unnamed: 0\": null, \"episode\": 13.0, \"episode_reward\": 4.455469660313675, \"step\": 13000, \"run_id\": null, \"agent\": null, \"env\": null, \"seed\": null, \"experiment\": null, \"log_save_tb\": null, \"eval_frequency\": null, \"num_train_steps\": null, \"Agent\": null, \"test\": false, \"score\": null, \"name\": \"1617_sac_sactrunc_v1_seed2\", \"title\": \"1617_sac_sactrunc_v1\", \"actor_entropy\": 4.136479060173035, \"actor_loss\": -4.781803786754608, \"actor_target_entropy\": -6.0, \"alpha_loss\": 0.5061027609109878, \"alpha_value\": 0.04992842951626682, \"batch_reward\": 0.004091818419983611, \"critic_loss\": 0.0019989126985892653, \"duration\": 24.419325113296512}, {\"Unnamed: 0\": null, \"episode\": 14.0, \"episode_reward\": 3.161369897192297, \"step\": 14000, \"run_id\": null, \"agent\": null, \"env\": null, \"seed\": null, \"experiment\": null, \"log_save_tb\": null, \"eval_frequency\": null, \"num_train_steps\": null, \"Agent\": null, \"test\": false, \"score\": null, \"name\": \"1617_sac_sactrunc_v1_seed2\", \"title\": \"1617_sac_sactrunc_v1\", \"actor_entropy\": 4.124796087265016, \"actor_loss\": -5.0902958574295045, \"actor_target_entropy\": -6.0, \"alpha_loss\": 0.4617721328437328, \"alpha_value\": 0.04560757714063458, \"batch_reward\": 0.00440432514064014, \"critic_loss\": 0.0021752792855259037, \"duration\": 25.11831784248352}, {\"Unnamed: 0\": null, \"episode\": 15.0, \"episode_reward\": 9.744374986852325, \"step\": 15000, \"run_id\": null, \"agent\": null, \"env\": null, \"seed\": null, \"experiment\": null, \"log_save_tb\": null, \"eval_frequency\": null, \"num_train_steps\": null, \"Agent\": null, \"test\": false, \"score\": null, \"name\": \"1617_sac_sactrunc_v1_seed2\", \"title\": \"1617_sac_sactrunc_v1\", \"actor_entropy\": 4.109552831172943, \"actor_loss\": -5.353718262672424, \"actor_target_entropy\": -6.0, \"alpha_loss\": 0.4211946165263653, \"alpha_value\": 0.041662492031622665, \"batch_reward\": 0.004718208563514054, \"critic_loss\": 0.0023215329302474857, \"duration\": 25.828284978866574}, {\"Unnamed: 0\": null, \"episode\": 16.0, \"episode_reward\": 9.883622898795846, \"step\": 16000, \"run_id\": null, \"agent\": null, \"env\": null, \"seed\": null, \"experiment\": null, \"log_save_tb\": null, \"eval_frequency\": null, \"num_train_steps\": null, \"Agent\": null, \"test\": false, \"score\": null, \"name\": \"1617_sac_sactrunc_v1_seed2\", \"title\": \"1617_sac_sactrunc_v1\", \"actor_entropy\": 4.089699314117432, \"actor_loss\": -5.575305843353272, \"actor_target_entropy\": -6.0, \"alpha_loss\": 0.3840233915746212, \"alpha_value\": 0.038060257129384586, \"batch_reward\": 0.005038380209822208, \"critic_loss\": 0.0024710440111812204, \"duration\": 24.68692088127136}, {\"Unnamed: 0\": null, \"episode\": 17.0, \"episode_reward\": 9.831134176232583, \"step\": 17000, \"run_id\": null, \"agent\": null, \"env\": null, \"seed\": null, \"experiment\": null, \"log_save_tb\": null, \"eval_frequency\": null, \"num_train_steps\": null, \"Agent\": null, \"test\": false, \"score\": null, \"name\": \"1617_sac_sactrunc_v1_seed2\", \"title\": \"1617_sac_sactrunc_v1\", \"actor_entropy\": 4.065126200675964, \"actor_loss\": -5.75803558921814, \"actor_target_entropy\": -6.0, \"alpha_loss\": 0.3499831249713898, \"alpha_value\": 0.034771142227101474, \"batch_reward\": 0.005203611151315271, \"critic_loss\": 0.0025778985682409256, \"duration\": 23.5185763835907}, {\"Unnamed: 0\": null, \"episode\": 18.0, \"episode_reward\": 7.640060114286813, \"step\": 18000, \"run_id\": null, \"agent\": null, \"env\": null, \"seed\": null, \"experiment\": null, \"log_save_tb\": null, \"eval_frequency\": null, \"num_train_steps\": null, \"Agent\": null, \"test\": false, \"score\": null, \"name\": \"1617_sac_sactrunc_v1_seed2\", \"title\": \"1617_sac_sactrunc_v1\", \"actor_entropy\": 4.0351072976589215, \"actor_loss\": -5.91030246591568, \"actor_target_entropy\": -6.0, \"alpha_loss\": 0.3188006973564625, \"alpha_value\": 0.031767794815180175, \"batch_reward\": 0.005687377986032516, \"critic_loss\": 0.0028185945206787443, \"duration\": 24.65953755378723}, {\"Unnamed: 0\": null, \"episode\": 10.0, \"episode_reward\": 0.1426214140437781, \"step\": 10000, \"run_id\": null, \"agent\": null, \"env\": null, \"seed\": null, \"experiment\": null, \"log_save_tb\": null, \"eval_frequency\": null, \"num_train_steps\": null, \"Agent\": null, \"test\": true, \"score\": null, \"name\": \"1617_sac_sactrunc_v1_seed2\", \"title\": \"1617_sac_sactrunc_v1\", \"actor_entropy\": null, \"actor_loss\": null, \"actor_target_entropy\": null, \"alpha_loss\": null, \"alpha_value\": null, \"batch_reward\": null, \"critic_loss\": null, \"duration\": null}, {\"Unnamed: 0\": null, \"episode\": 6.0, \"episode_reward\": 2.5482285892752543, \"step\": 6000, \"run_id\": null, \"agent\": null, \"env\": null, \"seed\": null, \"experiment\": null, \"log_save_tb\": null, \"eval_frequency\": null, \"num_train_steps\": null, \"Agent\": null, \"test\": false, \"score\": null, \"name\": \"1617_sac_sactrunc_v1_seed1\", \"title\": \"1617_sac_sactrunc_v1\", \"actor_entropy\": 4.146955417156219, \"actor_loss\": -1.0812670872211456, \"actor_target_entropy\": -6.0, \"alpha_loss\": 0.9662940129637718, \"alpha_value\": 0.09523136487872233, \"batch_reward\": 0.002870515431743116, \"critic_loss\": 0.005853334417915903, \"duration\": 26.962442874908447}, {\"Unnamed: 0\": null, \"episode\": 7.0, \"episode_reward\": 2.9554962930429913, \"step\": 7000, \"run_id\": null, \"agent\": null, \"env\": null, \"seed\": null, \"experiment\": null, \"log_save_tb\": null, \"eval_frequency\": null, \"num_train_steps\": null, \"Agent\": null, \"test\": false, \"score\": null, \"name\": \"1617_sac_sactrunc_v1_seed1\", \"title\": \"1617_sac_sactrunc_v1\", \"actor_entropy\": 4.15566268157959, \"actor_loss\": -1.7350146094560623, \"actor_target_entropy\": -6.0, \"alpha_loss\": 0.8783989205360413, \"alpha_value\": 0.0864936948990543, \"batch_reward\": 0.0029218719783239066, \"critic_loss\": 0.001398193882429041, \"duration\": 25.064380884170532}, {\"Unnamed: 0\": null, \"episode\": 8.0, \"episode_reward\": 2.752778207508359, \"step\": 8000, \"run_id\": null, \"agent\": null, \"env\": null, \"seed\": null, \"experiment\": null, \"log_save_tb\": null, \"eval_frequency\": null, \"num_train_steps\": null, \"Agent\": null, \"test\": false, \"score\": null, \"name\": \"1617_sac_sactrunc_v1_seed1\", \"title\": \"1617_sac_sactrunc_v1\", \"actor_entropy\": 4.157631628036499, \"actor_loss\": -2.404731935024261, \"actor_target_entropy\": -6.0, \"alpha_loss\": 0.8000145285725594, \"alpha_value\": 0.07875998524759457, \"batch_reward\": 0.0029616918878164144, \"critic_loss\": 0.0011753440849133767, \"duration\": 25.59770107269287}, {\"Unnamed: 0\": null, \"episode\": 9.0, \"episode_reward\": 3.261834104161012, \"step\": 9000, \"run_id\": null, \"agent\": null, \"env\": null, \"seed\": null, \"experiment\": null, \"log_save_tb\": null, \"eval_frequency\": null, \"num_train_steps\": null, \"Agent\": null, \"test\": false, \"score\": null, \"name\": \"1617_sac_sactrunc_v1_seed1\", \"title\": \"1617_sac_sactrunc_v1\", \"actor_entropy\": 4.157915788650513, \"actor_loss\": -3.014245297908783, \"actor_target_entropy\": -6.0, \"alpha_loss\": 0.7295916521549225, \"alpha_value\": 0.07182492756486045, \"batch_reward\": 0.0030801820901688193, \"critic_loss\": 0.0012841340857557954, \"duration\": 25.669467449188232}, {\"Unnamed: 0\": null, \"episode\": 10.0, \"episode_reward\": 4.932016249256028, \"step\": 10000, \"run_id\": null, \"agent\": null, \"env\": null, \"seed\": null, \"experiment\": null, \"log_save_tb\": null, \"eval_frequency\": null, \"num_train_steps\": null, \"Agent\": null, \"test\": false, \"score\": null, \"name\": \"1617_sac_sactrunc_v1_seed1\", \"title\": \"1617_sac_sactrunc_v1\", \"actor_entropy\": 4.157292029857636, \"actor_loss\": -3.554009706258774, \"actor_target_entropy\": -6.0, \"alpha_loss\": 0.665849154472351, \"alpha_value\": 0.06555372824813352, \"batch_reward\": 0.0032000675953458998, \"critic_loss\": 0.0014425883974181488, \"duration\": 25.336395263671875}, {\"Unnamed: 0\": null, \"episode\": 11.0, \"episode_reward\": 5.7998147203689685, \"step\": 11000, \"run_id\": null, \"agent\": null, \"env\": null, \"seed\": null, \"experiment\": null, \"log_save_tb\": null, \"eval_frequency\": null, \"num_train_steps\": null, \"Agent\": null, \"test\": false, \"score\": null, \"name\": \"1617_sac_sactrunc_v1_seed1\", \"title\": \"1617_sac_sactrunc_v1\", \"actor_entropy\": 4.154734001159668, \"actor_loss\": -4.028559216737747, \"actor_target_entropy\": -6.0, \"alpha_loss\": 0.6078173784017563, \"alpha_value\": 0.05985537486996303, \"batch_reward\": 0.0035664271239656954, \"critic_loss\": 0.0016443464311305432, \"duration\": 56.32490086555481}, {\"Unnamed: 0\": null, \"episode\": 12.0, \"episode_reward\": 4.701230930737356, \"step\": 12000, \"run_id\": null, \"agent\": null, \"env\": null, \"seed\": null, \"experiment\": null, \"log_save_tb\": null, \"eval_frequency\": null, \"num_train_steps\": null, \"Agent\": null, \"test\": false, \"score\": null, \"name\": \"1617_sac_sactrunc_v1_seed1\", \"title\": \"1617_sac_sactrunc_v1\", \"actor_entropy\": 4.148963970184326, \"actor_loss\": -4.441008419513702, \"actor_target_entropy\": -6.0, \"alpha_loss\": 0.5547907711863518, \"alpha_value\": 0.05466444228043363, \"batch_reward\": 0.003557573261903599, \"critic_loss\": 0.0017723364017438144, \"duration\": 24.06442832946777}, {\"Unnamed: 0\": null, \"episode\": 13.0, \"episode_reward\": 2.718360068119983, \"step\": 13000, \"run_id\": null, \"agent\": null, \"env\": null, \"seed\": null, \"experiment\": null, \"log_save_tb\": null, \"eval_frequency\": null, \"num_train_steps\": null, \"Agent\": null, \"test\": false, \"score\": null, \"name\": \"1617_sac_sactrunc_v1_seed1\", \"title\": \"1617_sac_sactrunc_v1\", \"actor_entropy\": 4.13583847951889, \"actor_loss\": -4.796783354759215, \"actor_target_entropy\": -6.0, \"alpha_loss\": 0.5060919659435749, \"alpha_value\": 0.049930347168381455, \"batch_reward\": 0.003472129228990525, \"critic_loss\": 0.00185063471167814, \"duration\": 24.797508001327515}, {\"Unnamed: 0\": null, \"episode\": 14.0, \"episode_reward\": 4.16696964044304, \"step\": 14000, \"run_id\": null, \"agent\": null, \"env\": null, \"seed\": null, \"experiment\": null, \"log_save_tb\": null, \"eval_frequency\": null, \"num_train_steps\": null, \"Agent\": null, \"test\": false, \"score\": null, \"name\": \"1617_sac_sactrunc_v1_seed1\", \"title\": \"1617_sac_sactrunc_v1\", \"actor_entropy\": 4.120141189575195, \"actor_loss\": -5.104692574501038, \"actor_target_entropy\": -6.0, \"alpha_loss\": 0.4615895982682705, \"alpha_value\": 0.04561042853269397, \"batch_reward\": 0.003687133070779964, \"critic_loss\": 0.001963741779443808, \"duration\": 24.90411853790283}, {\"Unnamed: 0\": null, \"episode\": 15.0, \"episode_reward\": 9.151106603685236, \"step\": 15000, \"run_id\": null, \"agent\": null, \"env\": null, \"seed\": null, \"experiment\": null, \"log_save_tb\": null, \"eval_frequency\": null, \"num_train_steps\": null, \"Agent\": null, \"test\": false, \"score\": null, \"name\": \"1617_sac_sactrunc_v1_seed1\", \"title\": \"1617_sac_sactrunc_v1\", \"actor_entropy\": 4.103439542293549, \"actor_loss\": -5.368537104606628, \"actor_target_entropy\": -6.0, \"alpha_loss\": 0.4209767988920212, \"alpha_value\": 0.04166614417424784, \"batch_reward\": 0.004022879849886522, \"critic_loss\": 0.002111800980870612, \"duration\": 25.11787533760071}, {\"Unnamed: 0\": null, \"episode\": 16.0, \"episode_reward\": 6.588553768159593, \"step\": 16000, \"run_id\": null, \"agent\": null, \"env\": null, \"seed\": null, \"experiment\": null, \"log_save_tb\": null, \"eval_frequency\": null, \"num_train_steps\": null, \"Agent\": null, \"test\": false, \"score\": null, \"name\": \"1617_sac_sactrunc_v1_seed1\", \"title\": \"1617_sac_sactrunc_v1\", \"actor_entropy\": 4.083317431926727, \"actor_loss\": -5.590467853546143, \"actor_target_entropy\": -6.0, \"alpha_loss\": 0.3838194626569748, \"alpha_value\": 0.0380640993826276, \"batch_reward\": 0.004368176533142105, \"critic_loss\": 0.0022439479613676665, \"duration\": 25.385945081710812}, {\"Unnamed: 0\": null, \"episode\": 17.0, \"episode_reward\": 10.705561383085827, \"step\": 17000, \"run_id\": null, \"agent\": null, \"env\": null, \"seed\": null, \"experiment\": null, \"log_save_tb\": null, \"eval_frequency\": null, \"num_train_steps\": null, \"Agent\": null, \"test\": false, \"score\": null, \"name\": \"1617_sac_sactrunc_v1_seed1\", \"title\": \"1617_sac_sactrunc_v1\", \"actor_entropy\": 4.055570542097092, \"actor_loss\": -5.775911942005157, \"actor_target_entropy\": -6.0, \"alpha_loss\": 0.34969259664416313, \"alpha_value\": 0.03477516219746829, \"batch_reward\": 0.004828878203174099, \"critic_loss\": 0.002375302766798995, \"duration\": 25.862306833267212}, {\"Unnamed: 0\": null, \"episode\": 18.0, \"episode_reward\": 17.31086749321385, \"step\": 18000, \"run_id\": null, \"agent\": null, \"env\": null, \"seed\": null, \"experiment\": null, \"log_save_tb\": null, \"eval_frequency\": null, \"num_train_steps\": null, \"Agent\": null, \"test\": false, \"score\": null, \"name\": \"1617_sac_sactrunc_v1_seed1\", \"title\": \"1617_sac_sactrunc_v1\", \"actor_entropy\": 4.012013726234436, \"actor_loss\": -5.933543762683867, \"actor_target_entropy\": -6.0, \"alpha_loss\": 0.3181259561777115, \"alpha_value\": 0.03177312143461294, \"batch_reward\": 0.005690844415687024, \"critic_loss\": 0.0024797319357749074, \"duration\": 25.911787271499637}, {\"Unnamed: 0\": null, \"episode\": 19.0, \"episode_reward\": 18.753609082016315, \"step\": 19000, \"run_id\": null, \"agent\": null, \"env\": null, \"seed\": null, \"experiment\": null, \"log_save_tb\": null, \"eval_frequency\": null, \"num_train_steps\": null, \"Agent\": null, \"test\": false, \"score\": null, \"name\": \"1617_sac_sactrunc_v1_seed1\", \"title\": \"1617_sac_sactrunc_v1\", \"actor_entropy\": 3.931172036647797, \"actor_loss\": -6.066659064769745, \"actor_target_entropy\": -6.0, \"alpha_loss\": 0.28838413187861445, \"alpha_value\": 0.02903551562003908, \"batch_reward\": 0.0067795511609874655, \"critic_loss\": 0.0026954795799683773, \"duration\": 26.55514597892761}, {\"Unnamed: 0\": null, \"episode\": 10.0, \"episode_reward\": 0.12597437006914053, \"step\": 10000, \"run_id\": null, \"agent\": null, \"env\": null, \"seed\": null, \"experiment\": null, \"log_save_tb\": null, \"eval_frequency\": null, \"num_train_steps\": null, \"Agent\": null, \"test\": true, \"score\": null, \"name\": \"1617_sac_sactrunc_v1_seed1\", \"title\": \"1617_sac_sactrunc_v1\", \"actor_entropy\": null, \"actor_loss\": null, \"actor_target_entropy\": null, \"alpha_loss\": null, \"alpha_value\": null, \"batch_reward\": null, \"critic_loss\": null, \"duration\": null}, {\"Unnamed: 0\": null, \"episode\": 6.0, \"episode_reward\": 3.8951191754649193, \"step\": 6000, \"run_id\": null, \"agent\": null, \"env\": null, \"seed\": null, \"experiment\": null, \"log_save_tb\": null, \"eval_frequency\": null, \"num_train_steps\": null, \"Agent\": null, \"test\": false, \"score\": null, \"name\": \"1617_sac_sactrunc_v1_seed0\", \"title\": \"1617_sac_sactrunc_v1\", \"actor_entropy\": 4.139093626499176, \"actor_loss\": -1.1058429839611053, \"actor_target_entropy\": -6.0, \"alpha_loss\": 0.965539151072502, \"alpha_value\": 0.09523197402641813, \"batch_reward\": 0.0034529854201246052, \"critic_loss\": 0.0066496894318843255, \"duration\": 29.944789171218872}, {\"Unnamed: 0\": null, \"episode\": 7.0, \"episode_reward\": 3.9019459982498126, \"step\": 7000, \"run_id\": null, \"agent\": null, \"env\": null, \"seed\": null, \"experiment\": null, \"log_save_tb\": null, \"eval_frequency\": null, \"num_train_steps\": null, \"Agent\": null, \"test\": false, \"score\": null, \"name\": \"1617_sac_sactrunc_v1_seed0\", \"title\": \"1617_sac_sactrunc_v1\", \"actor_entropy\": 4.1561652541160585, \"actor_loss\": -1.7588609011173248, \"actor_target_entropy\": -6.0, \"alpha_loss\": 0.8784088862538337, \"alpha_value\": 0.0864904389441196, \"batch_reward\": 0.0035185165144503115, \"critic_loss\": 0.0014786158346105367, \"duration\": 24.552040338516235}, {\"Unnamed: 0\": null, \"episode\": 8.0, \"episode_reward\": 4.881607707577324, \"step\": 8000, \"run_id\": null, \"agent\": null, \"env\": null, \"seed\": null, \"experiment\": null, \"log_save_tb\": null, \"eval_frequency\": null, \"num_train_steps\": null, \"Agent\": null, \"test\": false, \"score\": null, \"name\": \"1617_sac_sactrunc_v1_seed0\", \"title\": \"1617_sac_sactrunc_v1\", \"actor_entropy\": 4.15728265619278, \"actor_loss\": -2.431622220039368, \"actor_target_entropy\": -6.0, \"alpha_loss\": 0.7999421828389168, \"alpha_value\": 0.07875552177759364, \"batch_reward\": 0.003800461269216612, \"critic_loss\": 0.0012264216903131455, \"duration\": 24.364994287490845}, {\"Unnamed: 0\": null, \"episode\": 9.0, \"episode_reward\": 5.372173609112002, \"step\": 9000, \"run_id\": null, \"agent\": null, \"env\": null, \"seed\": null, \"experiment\": null, \"log_save_tb\": null, \"eval_frequency\": null, \"num_train_steps\": null, \"Agent\": null, \"test\": false, \"score\": null, \"name\": \"1617_sac_sactrunc_v1_seed0\", \"title\": \"1617_sac_sactrunc_v1\", \"actor_entropy\": 4.1564877462387075, \"actor_loss\": -3.0426701650619505, \"actor_target_entropy\": -6.0, \"alpha_loss\": 0.7294482696652412, \"alpha_value\": 0.0718208070826167, \"batch_reward\": 0.003903432108927518, \"critic_loss\": 0.0013750980662880464, \"duration\": 24.34871578216553}, {\"Unnamed: 0\": null, \"episode\": 10.0, \"episode_reward\": 6.356505337780409, \"step\": 10000, \"run_id\": null, \"agent\": null, \"env\": null, \"seed\": null, \"experiment\": null, \"log_save_tb\": null, \"eval_frequency\": null, \"num_train_steps\": null, \"Agent\": null, \"test\": false, \"score\": null, \"name\": \"1617_sac_sactrunc_v1_seed0\", \"title\": \"1617_sac_sactrunc_v1\", \"actor_entropy\": 4.1533757705688465, \"actor_loss\": -3.5830232582092285, \"actor_target_entropy\": -6.0, \"alpha_loss\": 0.6655627331733703, \"alpha_value\": 0.06555068040418771, \"batch_reward\": 0.004114620174048469, \"critic_loss\": 0.0015787578308954836, \"duration\": 24.953888416290283}, {\"Unnamed: 0\": null, \"episode\": 11.0, \"episode_reward\": 3.2762667004133013, \"step\": 11000, \"run_id\": null, \"agent\": null, \"env\": null, \"seed\": null, \"experiment\": null, \"log_save_tb\": null, \"eval_frequency\": null, \"num_train_steps\": null, \"Agent\": null, \"test\": false, \"score\": null, \"name\": \"1617_sac_sactrunc_v1_seed0\", \"title\": \"1617_sac_sactrunc_v1\", \"actor_entropy\": 4.147486764907837, \"actor_loss\": -4.0557968916893, \"actor_target_entropy\": -6.0, \"alpha_loss\": 0.6073701804280282, \"alpha_value\": 0.05985379801382484, \"batch_reward\": 0.004090732046868653, \"critic_loss\": 0.0017583317060489206, \"duration\": 52.86514139175415}, {\"Unnamed: 0\": null, \"episode\": 12.0, \"episode_reward\": 5.7668610677508605, \"step\": 12000, \"run_id\": null, \"agent\": null, \"env\": null, \"seed\": null, \"experiment\": null, \"log_save_tb\": null, \"eval_frequency\": null, \"num_train_steps\": null, \"Agent\": null, \"test\": false, \"score\": null, \"name\": \"1617_sac_sactrunc_v1_seed0\", \"title\": \"1617_sac_sactrunc_v1\", \"actor_entropy\": 4.136655930995941, \"actor_loss\": -4.4705948743820185, \"actor_target_entropy\": -6.0, \"alpha_loss\": 0.5541243690252304, \"alpha_value\": 0.054664981698908516, \"batch_reward\": 0.0043994772506412115, \"critic_loss\": 0.0018909874466480688, \"duration\": 24.15295147895813}, {\"Unnamed: 0\": null, \"episode\": 13.0, \"episode_reward\": 7.872549160818293, \"step\": 13000, \"run_id\": null, \"agent\": null, \"env\": null, \"seed\": null, \"experiment\": null, \"log_save_tb\": null, \"eval_frequency\": null, \"num_train_steps\": null, \"Agent\": null, \"test\": false, \"score\": null, \"name\": \"1617_sac_sactrunc_v1_seed0\", \"title\": \"1617_sac_sactrunc_v1\", \"actor_entropy\": 4.124458743095398, \"actor_loss\": -4.829632578849792, \"actor_target_entropy\": -6.0, \"alpha_loss\": 0.5055405594706536, \"alpha_value\": 0.049932094805436776, \"batch_reward\": 0.0046551580000668774, \"critic_loss\": 0.0020720300101675095, \"duration\": 24.572175979614254}, {\"Unnamed: 0\": null, \"episode\": 14.0, \"episode_reward\": 8.995621577335347, \"step\": 14000, \"run_id\": null, \"agent\": null, \"env\": null, \"seed\": null, \"experiment\": null, \"log_save_tb\": null, \"eval_frequency\": null, \"num_train_steps\": null, \"Agent\": null, \"test\": false, \"score\": null, \"name\": \"1617_sac_sactrunc_v1_seed0\", \"title\": \"1617_sac_sactrunc_v1\", \"actor_entropy\": 4.106873648166657, \"actor_loss\": -5.139065134048462, \"actor_target_entropy\": -6.0, \"alpha_loss\": 0.4610061297416687, \"alpha_value\": 0.04561238314823796, \"batch_reward\": 0.00508332650619559, \"critic_loss\": 0.0022275814837776123, \"duration\": 24.584020137786865}, {\"Unnamed: 0\": null, \"episode\": 15.0, \"episode_reward\": 10.30958452906664, \"step\": 15000, \"run_id\": null, \"agent\": null, \"env\": null, \"seed\": null, \"experiment\": null, \"log_save_tb\": null, \"eval_frequency\": null, \"num_train_steps\": null, \"Agent\": null, \"test\": false, \"score\": null, \"name\": \"1617_sac_sactrunc_v1_seed0\", \"title\": \"1617_sac_sactrunc_v1\", \"actor_entropy\": 4.0764033308029175, \"actor_loss\": -5.4016118326187135, \"actor_target_entropy\": -6.0, \"alpha_loss\": 0.41989564257860185, \"alpha_value\": 0.04167001347277538, \"batch_reward\": 0.005286387452855706, \"critic_loss\": 0.002423041451023892, \"duration\": 24.23966407775879}, {\"Unnamed: 0\": null, \"episode\": 16.0, \"episode_reward\": 13.134518795584835, \"step\": 16000, \"run_id\": null, \"agent\": null, \"env\": null, \"seed\": null, \"experiment\": null, \"log_save_tb\": null, \"eval_frequency\": null, \"num_train_steps\": null, \"Agent\": null, \"test\": false, \"score\": null, \"name\": \"1617_sac_sactrunc_v1_seed0\", \"title\": \"1617_sac_sactrunc_v1\", \"actor_entropy\": 4.037540425539016, \"actor_loss\": -5.632308715343474, \"actor_target_entropy\": -6.0, \"alpha_loss\": 0.3821658743321896, \"alpha_value\": 0.03807235111152149, \"batch_reward\": 0.006480605877004564, \"critic_loss\": 0.0026208171346224843, \"duration\": 24.85623025894165}, {\"Unnamed: 0\": null, \"episode\": 17.0, \"episode_reward\": 25.255010718410805, \"step\": 17000, \"run_id\": null, \"agent\": null, \"env\": null, \"seed\": null, \"experiment\": null, \"log_save_tb\": null, \"eval_frequency\": null, \"num_train_steps\": null, \"Agent\": null, \"test\": false, \"score\": null, \"name\": \"1617_sac_sactrunc_v1_seed0\", \"title\": \"1617_sac_sactrunc_v1\", \"actor_entropy\": 3.9852599432468416, \"actor_loss\": -5.825499018192291, \"actor_target_entropy\": -6.0, \"alpha_loss\": 0.3473917202949524, \"alpha_value\": 0.03478883051490058, \"batch_reward\": 0.0071818947177380325, \"critic_loss\": 0.002773411109345034, \"duration\": 25.41022872924805}, {\"Unnamed: 0\": null, \"episode\": 18.0, \"episode_reward\": 19.12961264585682, \"step\": 18000, \"run_id\": null, \"agent\": null, \"env\": null, \"seed\": null, \"experiment\": null, \"log_save_tb\": null, \"eval_frequency\": null, \"num_train_steps\": null, \"Agent\": null, \"test\": false, \"score\": null, \"name\": \"1617_sac_sactrunc_v1_seed0\", \"title\": \"1617_sac_sactrunc_v1\", \"actor_entropy\": 3.908138593673706, \"actor_loss\": -5.990718124866485, \"actor_target_entropy\": -6.0, \"alpha_loss\": 0.31503615000844004, \"alpha_value\": 0.031793586740955955, \"batch_reward\": 0.008253146403003484, \"critic_loss\": 0.003051886990200728, \"duration\": 25.152098178863525}, {\"Unnamed: 0\": null, \"episode\": 19.0, \"episode_reward\": 29.075630523555574, \"step\": 19000, \"run_id\": null, \"agent\": null, \"env\": null, \"seed\": null, \"experiment\": null, \"log_save_tb\": null, \"eval_frequency\": null, \"num_train_steps\": null, \"Agent\": null, \"test\": false, \"score\": null, \"name\": \"1617_sac_sactrunc_v1_seed0\", \"title\": \"1617_sac_sactrunc_v1\", \"actor_entropy\": 3.7977563631534577, \"actor_loss\": -6.135517263889313, \"actor_target_entropy\": -6.0, \"alpha_loss\": 0.2847817321121693, \"alpha_value\": 0.029063197516273807, \"batch_reward\": 0.009750841601286085, \"critic_loss\": 0.0033849091581068928, \"duration\": 25.34253168106079}, {\"Unnamed: 0\": null, \"episode\": 20.0, \"episode_reward\": 47.760939031633576, \"step\": 20000, \"run_id\": null, \"agent\": null, \"env\": null, \"seed\": null, \"experiment\": null, \"log_save_tb\": null, \"eval_frequency\": null, \"num_train_steps\": null, \"Agent\": null, \"test\": false, \"score\": null, \"name\": \"1617_sac_sactrunc_v1_seed0\", \"title\": \"1617_sac_sactrunc_v1\", \"actor_entropy\": 3.641562628984451, \"actor_loss\": -6.268418535232544, \"actor_target_entropy\": -6.0, \"alpha_loss\": 0.2562754816114903, \"alpha_value\": 0.02657646506143788, \"batch_reward\": 0.012131574554368856, \"critic_loss\": 0.00380659778858535, \"duration\": 26.228519916534424}, {\"Unnamed: 0\": null, \"episode\": 21.0, \"episode_reward\": 62.21868665029218, \"step\": 21000, \"run_id\": null, \"agent\": null, \"env\": null, \"seed\": null, \"experiment\": null, \"log_save_tb\": null, \"eval_frequency\": null, \"num_train_steps\": null, \"Agent\": null, \"test\": false, \"score\": null, \"name\": \"1617_sac_sactrunc_v1_seed0\", \"title\": \"1617_sac_sactrunc_v1\", \"actor_entropy\": 3.4151751224994658, \"actor_loss\": -6.387878338813782, \"actor_target_entropy\": -6.0, \"alpha_loss\": 0.2289774924814701, \"alpha_value\": 0.024315382580502344, \"batch_reward\": 0.014509654845111072, \"critic_loss\": 0.004243883095681667, \"duration\": 50.12254214286804}, {\"Unnamed: 0\": null, \"episode\": 22.0, \"episode_reward\": 63.46909837726036, \"step\": 22000, \"run_id\": null, \"agent\": null, \"env\": null, \"seed\": null, \"experiment\": null, \"log_save_tb\": null, \"eval_frequency\": null, \"num_train_steps\": null, \"Agent\": null, \"test\": false, \"score\": null, \"name\": \"1617_sac_sactrunc_v1_seed0\", \"title\": \"1617_sac_sactrunc_v1\", \"actor_entropy\": 3.1423447456359863, \"actor_loss\": -6.505854671001433, \"actor_target_entropy\": -6.0, \"alpha_loss\": 0.20355798129737376, \"alpha_value\": 0.02226021796119532, \"batch_reward\": 0.017566382453776896, \"critic_loss\": 0.004777301582042128, \"duration\": 23.766077041625977}, {\"Unnamed: 0\": null, \"episode\": 23.0, \"episode_reward\": 91.43587006750104, \"step\": 23000, \"run_id\": null, \"agent\": null, \"env\": null, \"seed\": null, \"experiment\": null, \"log_save_tb\": null, \"eval_frequency\": null, \"num_train_steps\": null, \"Agent\": null, \"test\": false, \"score\": null, \"name\": \"1617_sac_sactrunc_v1_seed0\", \"title\": \"1617_sac_sactrunc_v1\", \"actor_entropy\": 2.8222607612609862, \"actor_loss\": -6.619440641403197, \"actor_target_entropy\": -6.0, \"alpha_loss\": 0.17994408588111402, \"alpha_value\": 0.02039094510740355, \"batch_reward\": 0.020713065538555384, \"critic_loss\": 0.005461458979640156, \"duration\": 23.941919803619385}, {\"Unnamed: 0\": null, \"episode\": 24.0, \"episode_reward\": 86.95913159152462, \"step\": 24000, \"run_id\": null, \"agent\": null, \"env\": null, \"seed\": null, \"experiment\": null, \"log_save_tb\": null, \"eval_frequency\": null, \"num_train_steps\": null, \"Agent\": null, \"test\": false, \"score\": null, \"name\": \"1617_sac_sactrunc_v1_seed0\", \"title\": \"1617_sac_sactrunc_v1\", \"actor_entropy\": 2.456926447153092, \"actor_loss\": -6.732832440376281, \"actor_target_entropy\": -6.0, \"alpha_loss\": 0.15811186656355858, \"alpha_value\": 0.0186912470275935, \"batch_reward\": 0.02370170928351581, \"critic_loss\": 0.006631080289371312, \"duration\": 23.741925716400146}, {\"Unnamed: 0\": null, \"episode\": 25.0, \"episode_reward\": 69.37649286265982, \"step\": 25000, \"run_id\": null, \"agent\": null, \"env\": null, \"seed\": null, \"experiment\": null, \"log_save_tb\": null, \"eval_frequency\": null, \"num_train_steps\": null, \"Agent\": null, \"test\": false, \"score\": null, \"name\": \"1617_sac_sactrunc_v1_seed0\", \"title\": \"1617_sac_sactrunc_v1\", \"actor_entropy\": 2.061625418186188, \"actor_loss\": -6.824611452102661, \"actor_target_entropy\": -6.0, \"alpha_loss\": 0.13824831514805555, \"alpha_value\": 0.017140487206404268, \"batch_reward\": 0.025059705780819057, \"critic_loss\": 0.009312768708448858, \"duration\": 24.06147027015686}, {\"Unnamed: 0\": null, \"episode\": 26.0, \"episode_reward\": 46.16918669837655, \"step\": 26000, \"run_id\": null, \"agent\": null, \"env\": null, \"seed\": null, \"experiment\": null, \"log_save_tb\": null, \"eval_frequency\": null, \"num_train_steps\": null, \"Agent\": null, \"test\": false, \"score\": null, \"name\": \"1617_sac_sactrunc_v1_seed0\", \"title\": \"1617_sac_sactrunc_v1\", \"actor_entropy\": 1.2183200010061264, \"actor_loss\": -6.965635704517363, \"actor_target_entropy\": -6.0, \"alpha_loss\": 0.11381280621141195, \"alpha_value\": 0.015761842998234632, \"batch_reward\": 0.02695397904142737, \"critic_loss\": 0.008740426266100255, \"duration\": 23.684311628341675}, {\"Unnamed: 0\": null, \"episode\": 27.0, \"episode_reward\": 117.53868003163237, \"step\": 27000, \"run_id\": null, \"agent\": null, \"env\": null, \"seed\": null, \"experiment\": null, \"log_save_tb\": null, \"eval_frequency\": null, \"num_train_steps\": null, \"Agent\": null, \"test\": false, \"score\": null, \"name\": \"1617_sac_sactrunc_v1_seed0\", \"title\": \"1617_sac_sactrunc_v1\", \"actor_entropy\": 0.7000761734470725, \"actor_loss\": -7.143281216621399, \"actor_target_entropy\": -6.0, \"alpha_loss\": 0.0972898684963584, \"alpha_value\": 0.01450954047136118, \"batch_reward\": 0.03012049549259245, \"critic_loss\": 0.009416402480565012, \"duration\": 23.771860361099247}, {\"Unnamed: 0\": null, \"episode\": 10.0, \"episode_reward\": 0.3249556405116396, \"step\": 10000, \"run_id\": null, \"agent\": null, \"env\": null, \"seed\": null, \"experiment\": null, \"log_save_tb\": null, \"eval_frequency\": null, \"num_train_steps\": null, \"Agent\": null, \"test\": true, \"score\": null, \"name\": \"1617_sac_sactrunc_v1_seed0\", \"title\": \"1617_sac_sactrunc_v1\", \"actor_entropy\": null, \"actor_loss\": null, \"actor_target_entropy\": null, \"alpha_loss\": null, \"alpha_value\": null, \"batch_reward\": null, \"critic_loss\": null, \"duration\": null}, {\"Unnamed: 0\": null, \"episode\": 20.0, \"episode_reward\": 38.51120553626485, \"step\": 20000, \"run_id\": null, \"agent\": null, \"env\": null, \"seed\": null, \"experiment\": null, \"log_save_tb\": null, \"eval_frequency\": null, \"num_train_steps\": null, \"Agent\": null, \"test\": true, \"score\": null, \"name\": \"1617_sac_sactrunc_v1_seed0\", \"title\": \"1617_sac_sactrunc_v1\", \"actor_entropy\": null, \"actor_loss\": null, \"actor_target_entropy\": null, \"alpha_loss\": null, \"alpha_value\": null, \"batch_reward\": null, \"critic_loss\": null, \"duration\": null}]}}, {\"mode\": \"vega-lite\"});\n",
       "</script>"
      ],
      "text/plain": [
       "alt.HConcatChart(...)"
      ]
     },
     "execution_count": 36,
     "metadata": {},
     "output_type": "execute_result"
    }
   ],
   "source": [
    "data = pd.concat([\n",
    "    load_sac_results('cheetah', 'run'),\n",
    "    load_jobs('sactrunc_v1*'),\n",
    "])\n",
    "data = data[data.episode <= 100]\n",
    "\n",
    "plot_with_bars(data, y_col='episode_reward', color='title', test=False) |\\\n",
    "plot_with_bars(data, y_col='episode_reward', color='title', test=True)"
   ]
  },
  {
   "cell_type": "code",
   "execution_count": null,
   "metadata": {},
   "outputs": [],
   "source": []
  }
 ],
 "metadata": {
  "kernelspec": {
   "display_name": "Python 3",
   "language": "python",
   "name": "python3"
  },
  "language_info": {
   "codemirror_mode": {
    "name": "ipython",
    "version": 3
   },
   "file_extension": ".py",
   "mimetype": "text/x-python",
   "name": "python",
   "nbconvert_exporter": "python",
   "pygments_lexer": "ipython3",
   "version": "3.7.3"
  }
 },
 "nbformat": 4,
 "nbformat_minor": 4
}
